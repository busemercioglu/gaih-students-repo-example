{
  "nbformat": 4,
  "nbformat_minor": 0,
  "metadata": {
    "colab": {
      "name": "busemercioglu_HW3.ipynb",
      "provenance": [],
      "authorship_tag": "ABX9TyPxe+3HSgKhuyevOjBqSP/i",
      "include_colab_link": true
    },
    "kernelspec": {
      "display_name": "Python 3",
      "name": "python3"
    }
  },
  "cells": [
    {
      "cell_type": "markdown",
      "metadata": {
        "id": "view-in-github",
        "colab_type": "text"
      },
      "source": [
        "<a href=\"https://colab.research.google.com/github/busemercioglu/gaih-students-repo-example/blob/main/busemercioglu_HW3.ipynb\" target=\"_parent\"><img src=\"https://colab.research.google.com/assets/colab-badge.svg\" alt=\"Open In Colab\"/></a>"
      ]
    },
    {
      "cell_type": "code",
      "metadata": {
        "id": "ACv3fFppNXQ1"
      },
      "source": [
        "exams = {}\r\n",
        "\r\n",
        "ad=input(\"adınızı giriniz: \")\r\n",
        "midterm=float(input(\"midterm notunu giriniz: \"))\r\n",
        "project=float(input(\"project notunu giriniz: \"))\r\n",
        "final=float(input(\"final notunu giriniz: \"))\r\n",
        "\r\n",
        "exams.update({\r\n",
        "    ad: {\r\n",
        "        'midterm': midterm,\r\n",
        "        'project': project,\r\n",
        "        'final'  : final\r\n",
        "         }\r\n",
        "})\r\n",
        "\r\n",
        "ad=input(\"adınızı giriniz: \")\r\n",
        "midterm=float(input(\"midterm notunu giriniz: \"))\r\n",
        "project=float(input(\"project notunu giriniz: \"))\r\n",
        "final=float(input(\"final notunu giriniz: \"))\r\n",
        "\r\n",
        "exams.update({\r\n",
        "    ad: {\r\n",
        "        'midterm': midterm,\r\n",
        "        'project': project,\r\n",
        "        'final'  : final\r\n",
        "         }\r\n",
        "})\r\n",
        "\r\n",
        "ad=input(\"adınızı giriniz: \")\r\n",
        "midterm=float(input(\"midterm notunu giriniz: \"))\r\n",
        "project=float(input(\"project notunu giriniz: \"))\r\n",
        "final=float(input(\"final notunu giriniz: \"))\r\n",
        "\r\n",
        "exams.update({\r\n",
        "    ad: {\r\n",
        "        'midterm': midterm,\r\n",
        "        'project': project,\r\n",
        "        'final'  : final\r\n",
        "         }\r\n",
        "})\r\n",
        "\r\n",
        "ad=input(\"adınızı giriniz: \")\r\n",
        "midterm=float(input(\"midterm notunu giriniz: \"))\r\n",
        "project=float(input(\"project notunu giriniz: \"))\r\n",
        "final=float(input(\"final notunu giriniz: \"))\r\n",
        "\r\n",
        "exams.update({\r\n",
        "    ad: {\r\n",
        "        'midterm': midterm,\r\n",
        "        'project': project,\r\n",
        "        'final'  : final\r\n",
        "         }\r\n",
        "})\r\n",
        "\r\n",
        "ad=input(\"adınızı giriniz: \")\r\n",
        "midterm=float(input(\"midterm notunu giriniz: \"))\r\n",
        "project=float(input(\"project notunu giriniz: \"))\r\n",
        "final=float(input(\"final notunu giriniz: \"))\r\n",
        "\r\n",
        "exams.update({\r\n",
        "    ad: {\r\n",
        "        'midterm': midterm,\r\n",
        "        'project': project,\r\n",
        "        'final'  : final\r\n",
        "         }\r\n",
        "})\r\n",
        "\r\n",
        "exams\r\n",
        "\r\n",
        "\r\n",
        "\r\n"
      ],
      "execution_count": null,
      "outputs": []
    },
    {
      "cell_type": "code",
      "metadata": {
        "id": "MgeWI1obQwts"
      },
      "source": [
        "midterm1=float(input(\"midterm notunu giriniz:\"))\r\n",
        "project1=float(input(\"project notunu giriniz:\"))\r\n",
        "final1=float(input(\"final notunu giriniz:\"))\r\n",
        "\r\n",
        "midterm2=float(input(\"midterm notunu giriniz:\"))\r\n",
        "project2=float(input(\"project notunu giriniz:\"))\r\n",
        "final2=float(input(\"final notunu giriniz:\"))\r\n",
        "\r\n",
        "midterm3=float(input(\"midterm notunu giriniz:\"))\r\n",
        "project3=float(input(\"project notunu giriniz:\"))\r\n",
        "final3=float(input(\"final notunu giriniz:\"))\r\n",
        "\r\n",
        "midterm4=float(input(\"midterm notunu giriniz:\"))\r\n",
        "project4=float(input(\"project notunu giriniz:\"))\r\n",
        "final4=float(input(\"final notunu giriniz:\"))\r\n",
        "\r\n",
        "midterm5=float(input(\"midterm notunu giriniz:\"))\r\n",
        "project5=float(input(\"project notunu giriniz:\"))\r\n",
        "final5=float(input(\"final notunu giriniz:\"))\r\n",
        "\r\n",
        "grade1=midterm1*0.3 + project1*0.3 + final1*0.4\r\n",
        "grade2=midterm2*0.3 + project2*0.3 + final2*0.4\r\n",
        "grade3=midterm3*0.3 + project3*0.3 + final3*0.4\r\n",
        "grade4=midterm4*0.3 + project4*0.3 + final4*0.4\r\n",
        "grade5=midterm5*0.3 + project5*0.3 + final5*0.4\r\n",
        "\r\n",
        "list = [grade1, grade2, grade3, grade4, grade5]\r\n",
        "list.sort()\r\n",
        "list.reverse()\r\n",
        "list"
      ],
      "execution_count": null,
      "outputs": []
    }
  ]
}