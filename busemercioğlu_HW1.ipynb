{
  "nbformat": 4,
  "nbformat_minor": 0,
  "metadata": {
    "colab": {
      "name": "busemercioğlu_HW1.ipynb",
      "provenance": [],
      "authorship_tag": "ABX9TyMaQfpuuyoBjwOAVLqkmh08",
      "include_colab_link": true
    },
    "kernelspec": {
      "name": "python3",
      "display_name": "Python 3"
    }
  },
  "cells": [
    {
      "cell_type": "markdown",
      "metadata": {
        "id": "view-in-github",
        "colab_type": "text"
      },
      "source": [
        "<a href=\"https://colab.research.google.com/github/busemercioglu/gaih-students-repo-example/blob/main/busemercio%C4%9Flu_HW1.ipynb\" target=\"_parent\"><img src=\"https://colab.research.google.com/assets/colab-badge.svg\" alt=\"Open In Colab\"/></a>"
      ]
    },
    {
      "cell_type": "code",
      "metadata": {
        "colab": {
          "base_uri": "https://localhost:8080/"
        },
        "id": "q4VB5R2BN_np",
        "outputId": "34d266ad-8596-4765-d070-fd6210c999d8"
      },
      "source": [
        "firstlist = [1,3,5,7,9]\r\n",
        "secondlist = [0,2,4,6,8]\r\n",
        "firstlist.extend(secondlist)  #merging two lists\r\n",
        "firstlist = [x*2 for x in (firstlist)]  #multiplying by 2\r\n",
        "for i in firstlist:\r\n",
        "  print(\"data type of {} : {}\".format(i, type(i))) #datatype of the values of the list\r\n",
        "\r\n",
        "\r\n"
      ],
      "execution_count": 5,
      "outputs": [
        {
          "output_type": "stream",
          "text": [
            "data type of 2 : <class 'int'>\n",
            "data type of 6 : <class 'int'>\n",
            "data type of 10 : <class 'int'>\n",
            "data type of 14 : <class 'int'>\n",
            "data type of 18 : <class 'int'>\n",
            "data type of 0 : <class 'int'>\n",
            "data type of 4 : <class 'int'>\n",
            "data type of 8 : <class 'int'>\n",
            "data type of 12 : <class 'int'>\n",
            "data type of 16 : <class 'int'>\n"
          ],
          "name": "stdout"
        }
      ]
    }
  ]
}