{
  "nbformat": 4,
  "nbformat_minor": 0,
  "metadata": {
    "colab": {
      "name": "busemercioglu_finalproject.ipynb",
      "provenance": [],
      "authorship_tag": "ABX9TyPn3ehUgcEtXWsyJFRr5VTj",
      "include_colab_link": true
    },
    "kernelspec": {
      "name": "python3",
      "display_name": "Python 3"
    }
  },
  "cells": [
    {
      "cell_type": "markdown",
      "metadata": {
        "id": "view-in-github",
        "colab_type": "text"
      },
      "source": [
        "<a href=\"https://colab.research.google.com/github/busemercioglu/gaih-students-repo-example/blob/main/busemercioglu_finalproject.ipynb\" target=\"_parent\"><img src=\"https://colab.research.google.com/assets/colab-badge.svg\" alt=\"Open In Colab\"/></a>"
      ]
    },
    {
      "cell_type": "code",
      "metadata": {
        "id": "jPtNrhrPV0gP"
      },
      "source": [
        "def main():\r\n",
        "    \r\n",
        "    sorular={'Fransanın başkenti neresidir? ':'Paris', \r\n",
        "        'Eyfel Kulesinin yapımı kaç yılında tamamlanmıştır? ':'1889', \r\n",
        "        'Haberleşmenin eski dildeki adı nedir?  ':'Muhabere', \r\n",
        "        'Tiger Woods hangi sporun en önemli temsilcisidir?  ':'Golf', \r\n",
        "        '\"Yalnızlık Bakanlığı\" geçtiğimizde günlerde hangi ülkede kurulmuştur? ':'İsveç'}\r\n",
        "    print(\"*** competition ***\\n\")\r\n",
        "    print(\"\\n you scored {0} out of {1}.\".format(competition(sorular), \"100\"))\r\n",
        "def competition(sorular):\r\n",
        "    score = 0\r\n",
        "    for k,v in sorular.items():\r\n",
        "        if input(k).lower() == v.lower():\r\n",
        "            score += 10\r\n",
        "            print(\"Doğru\")\r\n",
        "        else:\r\n",
        "            print(\"yanlış\")\r\n",
        "            return score\r\n",
        "        print(score)\r\n",
        "\r\n",
        "def score():\r\n",
        "  if score <= 50 :\r\n",
        "    print(\"başarısız\")\r\n",
        "\r\n",
        "if __name__ == \"__main__\":\r\n",
        "    main()"
      ],
      "execution_count": null,
      "outputs": []
    }
  ]
}